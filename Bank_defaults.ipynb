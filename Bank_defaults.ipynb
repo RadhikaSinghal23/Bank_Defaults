{
 "cells": [
  {
   "cell_type": "markdown",
   "id": "653ac804",
   "metadata": {},
   "source": [
    "# Bank data - Default Prediction"
   ]
  },
  {
   "cell_type": "markdown",
   "id": "a9bf90a6",
   "metadata": {},
   "source": [
    "The given is a classification problem. In the process, data has been explored and cleaned. Due to highly unbalanced classes an approach of over and under-sampling has been used using the SVM algo. "
   ]
  },
  {
   "cell_type": "code",
   "execution_count": 1,
   "id": "7b8276ca",
   "metadata": {},
   "outputs": [],
   "source": [
    "#importing  libraries\n",
    "import numpy as np\n",
    "import pandas as pd\n",
    "\n",
    "import matplotlib.pyplot as plt\n",
    "import seaborn as sns"
   ]
  },
  {
   "cell_type": "markdown",
   "id": "c1171b6b",
   "metadata": {},
   "source": [
    "#### Importing dataset"
   ]
  },
  {
   "cell_type": "code",
   "execution_count": 2,
   "id": "adb1506e",
   "metadata": {},
   "outputs": [],
   "source": [
    "df = pd.read_csv(\"C:/.../bankdefault_pnb.csv\")"
   ]
  },
  {
   "cell_type": "code",
   "execution_count": 3,
   "id": "cfe23a64",
   "metadata": {},
   "outputs": [
    {
     "data": {
      "text/html": [
       "<div>\n",
       "<style scoped>\n",
       "    .dataframe tbody tr th:only-of-type {\n",
       "        vertical-align: middle;\n",
       "    }\n",
       "\n",
       "    .dataframe tbody tr th {\n",
       "        vertical-align: top;\n",
       "    }\n",
       "\n",
       "    .dataframe thead th {\n",
       "        text-align: right;\n",
       "    }\n",
       "</style>\n",
       "<table border=\"1\" class=\"dataframe\">\n",
       "  <thead>\n",
       "    <tr style=\"text-align: right;\">\n",
       "      <th></th>\n",
       "      <th>Customer</th>\n",
       "      <th>CHANNEL</th>\n",
       "      <th>Loan Type</th>\n",
       "      <th>Collection Point</th>\n",
       "      <th>Avg EMI Overdue days</th>\n",
       "      <th>Loan Term</th>\n",
       "      <th>Loan Amount_Lacs</th>\n",
       "      <th>Type of Loan Taken</th>\n",
       "      <th>PI_Age</th>\n",
       "      <th>PI_GENDER</th>\n",
       "      <th>...</th>\n",
       "      <th>Branch</th>\n",
       "      <th>Salary</th>\n",
       "      <th>Age Proof</th>\n",
       "      <th>Blocked Location - Current</th>\n",
       "      <th>EMI defulter Frequency</th>\n",
       "      <th>Salary Account in Bank</th>\n",
       "      <th>edu_flag</th>\n",
       "      <th>Occ_flag</th>\n",
       "      <th>PI_Contactablity</th>\n",
       "      <th>Defaulter</th>\n",
       "    </tr>\n",
       "  </thead>\n",
       "  <tbody>\n",
       "    <tr>\n",
       "      <th>0</th>\n",
       "      <td>1</td>\n",
       "      <td>Bank</td>\n",
       "      <td>House Loan</td>\n",
       "      <td>0</td>\n",
       "      <td>15</td>\n",
       "      <td>15</td>\n",
       "      <td>29</td>\n",
       "      <td>4</td>\n",
       "      <td>40</td>\n",
       "      <td>F</td>\n",
       "      <td>...</td>\n",
       "      <td>Branch1</td>\n",
       "      <td>400000.0</td>\n",
       "      <td>PAN  Card</td>\n",
       "      <td>No</td>\n",
       "      <td>3</td>\n",
       "      <td>No</td>\n",
       "      <td>NaN</td>\n",
       "      <td>Salaried</td>\n",
       "      <td>Only E-mail</td>\n",
       "      <td>Yes</td>\n",
       "    </tr>\n",
       "    <tr>\n",
       "      <th>1</th>\n",
       "      <td>2</td>\n",
       "      <td>Bank</td>\n",
       "      <td>House Loan</td>\n",
       "      <td>0</td>\n",
       "      <td>9</td>\n",
       "      <td>23</td>\n",
       "      <td>32</td>\n",
       "      <td>3</td>\n",
       "      <td>53</td>\n",
       "      <td>M</td>\n",
       "      <td>...</td>\n",
       "      <td>Branch3</td>\n",
       "      <td>35000.0</td>\n",
       "      <td>Aadhar</td>\n",
       "      <td>Yes</td>\n",
       "      <td>0</td>\n",
       "      <td>No</td>\n",
       "      <td>NaN</td>\n",
       "      <td>NaN</td>\n",
       "      <td>No Contactability</td>\n",
       "      <td>Non-Defulter</td>\n",
       "    </tr>\n",
       "    <tr>\n",
       "      <th>2</th>\n",
       "      <td>3</td>\n",
       "      <td>Agency</td>\n",
       "      <td>House Loan</td>\n",
       "      <td>0</td>\n",
       "      <td>11</td>\n",
       "      <td>22</td>\n",
       "      <td>18</td>\n",
       "      <td>4</td>\n",
       "      <td>40</td>\n",
       "      <td>F</td>\n",
       "      <td>...</td>\n",
       "      <td>Branch4</td>\n",
       "      <td>300000.0</td>\n",
       "      <td>Aadhar</td>\n",
       "      <td>No</td>\n",
       "      <td>2</td>\n",
       "      <td>No</td>\n",
       "      <td>NaN</td>\n",
       "      <td>Self employeed</td>\n",
       "      <td>No Contactability</td>\n",
       "      <td>Non-Defulter</td>\n",
       "    </tr>\n",
       "    <tr>\n",
       "      <th>3</th>\n",
       "      <td>4</td>\n",
       "      <td>Bank</td>\n",
       "      <td>House Loan</td>\n",
       "      <td>0</td>\n",
       "      <td>14</td>\n",
       "      <td>21</td>\n",
       "      <td>13</td>\n",
       "      <td>1</td>\n",
       "      <td>51</td>\n",
       "      <td>M</td>\n",
       "      <td>...</td>\n",
       "      <td>Branch6</td>\n",
       "      <td>750000.0</td>\n",
       "      <td>PAN  Card</td>\n",
       "      <td>Yes</td>\n",
       "      <td>0</td>\n",
       "      <td>No</td>\n",
       "      <td>Post Graduate</td>\n",
       "      <td>Salaried</td>\n",
       "      <td>Only E-mail</td>\n",
       "      <td>Non-Defulter</td>\n",
       "    </tr>\n",
       "    <tr>\n",
       "      <th>4</th>\n",
       "      <td>5</td>\n",
       "      <td>Bank</td>\n",
       "      <td>House Loan</td>\n",
       "      <td>0</td>\n",
       "      <td>1</td>\n",
       "      <td>10</td>\n",
       "      <td>42</td>\n",
       "      <td>1</td>\n",
       "      <td>46</td>\n",
       "      <td>M</td>\n",
       "      <td>...</td>\n",
       "      <td>Branch7</td>\n",
       "      <td>360000.0</td>\n",
       "      <td>PAN  Card</td>\n",
       "      <td>No</td>\n",
       "      <td>2</td>\n",
       "      <td>No</td>\n",
       "      <td>12th Pass</td>\n",
       "      <td>Salaried</td>\n",
       "      <td>No Contactability</td>\n",
       "      <td>Non-Defulter</td>\n",
       "    </tr>\n",
       "  </tbody>\n",
       "</table>\n",
       "<p>5 rows × 23 columns</p>\n",
       "</div>"
      ],
      "text/plain": [
       "   Customer CHANNEL    Loan Type  Collection Point   Avg EMI Overdue days   \\\n",
       "0         1    Bank  House Loan                   0                     15   \n",
       "1         2    Bank  House Loan                   0                      9   \n",
       "2         3  Agency  House Loan                   0                     11   \n",
       "3         4    Bank  House Loan                   0                     14   \n",
       "4         5    Bank  House Loan                   0                      1   \n",
       "\n",
       "   Loan Term   Loan Amount_Lacs  Type of Loan Taken  PI_Age PI_GENDER  ...  \\\n",
       "0          15                29                   4      40         F  ...   \n",
       "1          23                32                   3      53         M  ...   \n",
       "2          22                18                   4      40         F  ...   \n",
       "3          21                13                   1      51         M  ...   \n",
       "4          10                42                   1      46         M  ...   \n",
       "\n",
       "    Branch   Salary   Age Proof Blocked Location - Current   \\\n",
       "0  Branch1  400000.0  PAN  Card                          No   \n",
       "1  Branch3   35000.0     Aadhar                         Yes   \n",
       "2  Branch4  300000.0     Aadhar                          No   \n",
       "3  Branch6  750000.0  PAN  Card                         Yes   \n",
       "4  Branch7  360000.0  PAN  Card                          No   \n",
       "\n",
       "   EMI defulter Frequency   Salary Account in Bank       edu_flag  \\\n",
       "0                         3                     No            NaN   \n",
       "1                         0                     No            NaN   \n",
       "2                         2                     No            NaN   \n",
       "3                         0                     No  Post Graduate   \n",
       "4                         2                     No      12th Pass   \n",
       "\n",
       "         Occ_flag   PI_Contactablity     Defaulter  \n",
       "0        Salaried        Only E-mail           Yes  \n",
       "1             NaN  No Contactability  Non-Defulter  \n",
       "2  Self employeed  No Contactability  Non-Defulter  \n",
       "3        Salaried        Only E-mail  Non-Defulter  \n",
       "4        Salaried  No Contactability  Non-Defulter  \n",
       "\n",
       "[5 rows x 23 columns]"
      ]
     },
     "execution_count": 3,
     "metadata": {},
     "output_type": "execute_result"
    }
   ],
   "source": [
    "df.head()"
   ]
  },
  {
   "cell_type": "markdown",
   "id": "70f3aebd",
   "metadata": {},
   "source": [
    "# Exploratory Data Analysis"
   ]
  },
  {
   "cell_type": "code",
   "execution_count": 4,
   "id": "00d1e657",
   "metadata": {},
   "outputs": [
    {
     "name": "stdout",
     "output_type": "stream",
     "text": [
      "<class 'pandas.core.frame.DataFrame'>\n",
      "RangeIndex: 1564 entries, 0 to 1563\n",
      "Data columns (total 23 columns):\n",
      " #   Column                       Non-Null Count  Dtype  \n",
      "---  ------                       --------------  -----  \n",
      " 0   Customer                     1564 non-null   int64  \n",
      " 1   CHANNEL                      1564 non-null   object \n",
      " 2   Loan Type                    1564 non-null   object \n",
      " 3   Collection Point             1564 non-null   int64  \n",
      " 4   Avg EMI Overdue days         1564 non-null   int64  \n",
      " 5   Loan Term                    1564 non-null   int64  \n",
      " 6   Loan Amount_Lacs             1564 non-null   int64  \n",
      " 7   Type of Loan Taken           1564 non-null   int64  \n",
      " 8   PI_Age                       1564 non-null   int64  \n",
      " 9   PI_GENDER                    1564 non-null   object \n",
      " 10  PI_MARITAL_STATUS            1564 non-null   object \n",
      " 11  PI_STATE                     1564 non-null   object \n",
      " 12  Zone                         1564 non-null   object \n",
      " 13  Branch                       1564 non-null   object \n",
      " 14  Salary                       1564 non-null   float64\n",
      " 15  Age Proof                    1564 non-null   object \n",
      " 16  Blocked Location - Current   1564 non-null   object \n",
      " 17  EMI defulter Frequency       1564 non-null   int64  \n",
      " 18  Salary Account in Bank       1564 non-null   object \n",
      " 19  edu_flag                     931 non-null    object \n",
      " 20  Occ_flag                     1527 non-null   object \n",
      " 21  PI_Contactablity             1564 non-null   object \n",
      " 22  Defaulter                    1564 non-null   object \n",
      "dtypes: float64(1), int64(8), object(14)\n",
      "memory usage: 281.2+ KB\n"
     ]
    }
   ],
   "source": [
    "df.info()"
   ]
  },
  {
   "cell_type": "markdown",
   "id": "fff800cb",
   "metadata": {},
   "source": [
    "the data does not have any null values, the target variable 'Defaulter' is categorical"
   ]
  },
  {
   "cell_type": "markdown",
   "id": "da7f04b3",
   "metadata": {},
   "source": [
    "We have to check how the response/ target variable looks like"
   ]
  },
  {
   "cell_type": "code",
   "execution_count": 5,
   "id": "faa22435",
   "metadata": {},
   "outputs": [
    {
     "data": {
      "text/plain": [
       "<AxesSubplot:title={'center':'Defaulter counts'}>"
      ]
     },
     "execution_count": 5,
     "metadata": {},
     "output_type": "execute_result"
    },
    {
     "data": {
      "image/png": "[encoded data removed]",
      "text/plain": [
       "<Figure size 432x288 with 1 Axes>"
      ]
     },
     "metadata": {
      "needs_background": "light"
     },
     "output_type": "display_data"
    }
   ],
   "source": [
    "y_freq = df['Defaulter'].value_counts()\n",
    "y_freq.plot.bar(title = 'Defaulter counts', label = True)"
   ]
  },
  {
   "cell_type": "markdown",
   "id": "9438b409",
   "metadata": {},
   "source": [
    "The classes are highly imbalanced. >400 are defaulters and >1200 are non-defaulters. It is then importantn to note here that an accuracy metric can not be reliable measure. We will hence use ROC AUC curves or specificity and sensitivity as a metric to evaluate the model performance. "
   ]
  },
  {
   "cell_type": "markdown",
   "id": "5bd0433c",
   "metadata": {},
   "source": [
    "#### Correcting the column names "
   ]
  },
  {
   "cell_type": "code",
   "execution_count": 6,
   "id": "5a538553",
   "metadata": {},
   "outputs": [],
   "source": [
    "df.columns= df.columns.str.lower()"
   ]
  },
  {
   "cell_type": "code",
   "execution_count": 7,
   "id": "d705ff2f",
   "metadata": {},
   "outputs": [],
   "source": [
    "# removing spaces in column names\n",
    "df.columns = df.columns.str.replace(' ','')"
   ]
  },
  {
   "cell_type": "code",
   "execution_count": 8,
   "id": "a06a7059",
   "metadata": {},
   "outputs": [
    {
     "data": {
      "text/plain": [
       "Index(['customer', 'channel', 'loantype', 'collectionpoint',\n",
       "       'avgemioverduedays', 'loanterm', 'loanamount_lacs', 'typeofloantaken',\n",
       "       'pi_age', 'pi_gender', 'pi_marital_status', 'pi_state', 'zone',\n",
       "       'branch', 'salary', 'ageproof', 'blockedlocation-current',\n",
       "       'emidefulterfrequency', 'salaryaccountinbank', 'edu_flag', 'occ_flag',\n",
       "       'pi_contactablity', 'defaulter'],\n",
       "      dtype='object')"
      ]
     },
     "execution_count": 8,
     "metadata": {},
     "output_type": "execute_result"
    }
   ],
   "source": [
    "df.columns"
   ]
  },
  {
   "cell_type": "markdown",
   "id": "bb66294e",
   "metadata": {},
   "source": [
    "#### checking how the categorical variables look "
   ]
  },
  {
   "cell_type": "code",
   "execution_count": 9,
   "id": "234dc78b",
   "metadata": {},
   "outputs": [
    {
     "data": {
      "image/png": "[encoded data removed]",
      "text/plain": [
       "<Figure size 1080x3240 with 15 Axes>"
      ]
     },
     "metadata": {
      "needs_background": "light"
     },
     "output_type": "display_data"
    }
   ],
   "source": [
    "#making list of the categorical variables \n",
    "cat = ['channel', 'loantype', 'collectionpoint','pi_gender', 'pi_marital_status', 'pi_state', 'zone', 'branch', 'ageproof', 'blockedlocation-current',\n",
    "       'emidefulterfrequency', 'salaryaccountinbank', 'edu_flag', 'occ_flag', 'pi_contactablity']\n",
    "#outlining canvas\n",
    "fig, axs = plt.subplots(5,3, sharex=False, sharey=False, figsize=(15, 45))\n",
    "\n",
    "counter = 0\n",
    "for i in cat:\n",
    "    value_counts = df[i].value_counts()\n",
    "    \n",
    "    trace_x = counter // 3\n",
    "    trace_y = counter % 3\n",
    "    x_pos = np.arange(0, len(value_counts))\n",
    "    \n",
    "    axs[trace_x, trace_y].bar(x_pos, value_counts.values, tick_label = value_counts.index)\n",
    "    \n",
    "    axs[trace_x, trace_y].set_title(i)\n",
    "    \n",
    "    for tick in axs[trace_x, trace_y].get_xticklabels():\n",
    "        tick.set_rotation(90)\n",
    "    \n",
    "    counter += 1\n",
    "\n",
    "plt.show()"
   ]
  },
  {
   "cell_type": "markdown",
   "id": "6300a9f6",
   "metadata": {},
   "source": [
    "#### Checking how the numerical variables look like "
   ]
  },
  {
   "cell_type": "code",
   "execution_count": 10,
   "id": "213c7ab3",
   "metadata": {},
   "outputs": [
    {
     "data": {
      "image/png": "[encoded data removed]",
      "text/plain": [
       "<Figure size 1440x1080 with 6 Axes>"
      ]
     },
     "metadata": {
      "needs_background": "light"
     },
     "output_type": "display_data"
    }
   ],
   "source": [
    "#making list of continuous columns\n",
    "cont = ['avgemioverduedays', 'loanterm', 'loanamount_lacs','pi_age','salary','emidefulterfrequency']\n",
    "#outlining canvas\n",
    "fig, axs = plt.subplots(2, 3, sharex=False, sharey=False, figsize=(20, 15))\n",
    "#assigning plots\n",
    "counter = 0\n",
    "for var in cont:\n",
    "    \n",
    "    trace_x = counter // 3\n",
    "    trace_y = counter % 3\n",
    "    \n",
    "    axs[trace_x, trace_y].hist(df[var])\n",
    "    \n",
    "    axs[trace_x, trace_y].set_title(var)\n",
    "    \n",
    "    counter += 1\n",
    "\n",
    "plt.show()"
   ]
  },
  {
   "cell_type": "markdown",
   "id": "b322d057",
   "metadata": {},
   "source": [
    "The continuous variables are mostly well-distributed except for salary, which indicates high presence of outliers"
   ]
  },
  {
   "cell_type": "code",
   "execution_count": 11,
   "id": "15714cc8",
   "metadata": {},
   "outputs": [
    {
     "data": {
      "text/plain": [
       "count    1.564000e+03\n",
       "mean     3.272917e+05\n",
       "std      2.915292e+05\n",
       "min      0.000000e+00\n",
       "25%      2.000000e+05\n",
       "50%      2.800000e+05\n",
       "75%      3.712500e+05\n",
       "max      2.500000e+06\n",
       "Name: salary, dtype: float64"
      ]
     },
     "execution_count": 11,
     "metadata": {},
     "output_type": "execute_result"
    }
   ],
   "source": [
    "#analysing and checking for outliers\n",
    "df['salary'].describe()"
   ]
  },
  {
   "cell_type": "code",
   "execution_count": 12,
   "id": "bd1d6747",
   "metadata": {},
   "outputs": [
    {
     "data": {
      "text/plain": [
       "3.8363171355498724"
      ]
     },
     "execution_count": 12,
     "metadata": {},
     "output_type": "execute_result"
    }
   ],
   "source": [
    "#checking values less than 50k in salary\n",
    "len(df[df['salary']<35000] ) / len(df) * 100"
   ]
  },
  {
   "cell_type": "markdown",
   "id": "5f05bafe",
   "metadata": {},
   "source": [
    "less than 4 percent of the individuals have salaries less than the average value. This indicates the presence of outliers which need to be imputed while data cleaning. "
   ]
  },
  {
   "cell_type": "markdown",
   "id": "487c5b70",
   "metadata": {},
   "source": [
    "# Data Pre-Processing"
   ]
  },
  {
   "cell_type": "code",
   "execution_count": 13,
   "id": "68e8c9fc",
   "metadata": {},
   "outputs": [],
   "source": [
    "#drop irrelevant columns\n",
    "df = df.drop(columns = ['loantype','customer'],axis=1)"
   ]
  },
  {
   "cell_type": "markdown",
   "id": "d36e8254",
   "metadata": {},
   "source": [
    "#### Converting categorical data to dummies "
   ]
  },
  {
   "cell_type": "code",
   "execution_count": 14,
   "id": "d6653ef7",
   "metadata": {
    "scrolled": true
   },
   "outputs": [
    {
     "data": {
      "text/html": [
       "<div>\n",
       "<style scoped>\n",
       "    .dataframe tbody tr th:only-of-type {\n",
       "        vertical-align: middle;\n",
       "    }\n",
       "\n",
       "    .dataframe tbody tr th {\n",
       "        vertical-align: top;\n",
       "    }\n",
       "\n",
       "    .dataframe thead th {\n",
       "        text-align: right;\n",
       "    }\n",
       "</style>\n",
       "<table border=\"1\" class=\"dataframe\">\n",
       "  <thead>\n",
       "    <tr style=\"text-align: right;\">\n",
       "      <th></th>\n",
       "      <th>channel</th>\n",
       "      <th>collectionpoint</th>\n",
       "      <th>avgemioverduedays</th>\n",
       "      <th>loanterm</th>\n",
       "      <th>loanamount_lacs</th>\n",
       "      <th>typeofloantaken</th>\n",
       "      <th>pi_age</th>\n",
       "      <th>pi_gender</th>\n",
       "      <th>pi_marital_status</th>\n",
       "      <th>pi_state</th>\n",
       "      <th>...</th>\n",
       "      <th>branch</th>\n",
       "      <th>salary</th>\n",
       "      <th>ageproof</th>\n",
       "      <th>blockedlocation-current</th>\n",
       "      <th>emidefulterfrequency</th>\n",
       "      <th>salaryaccountinbank</th>\n",
       "      <th>edu_flag</th>\n",
       "      <th>occ_flag</th>\n",
       "      <th>pi_contactablity</th>\n",
       "      <th>defaulter</th>\n",
       "    </tr>\n",
       "  </thead>\n",
       "  <tbody>\n",
       "    <tr>\n",
       "      <th>0</th>\n",
       "      <td>1</td>\n",
       "      <td>0</td>\n",
       "      <td>14</td>\n",
       "      <td>5</td>\n",
       "      <td>19</td>\n",
       "      <td>3</td>\n",
       "      <td>21</td>\n",
       "      <td>0</td>\n",
       "      <td>1</td>\n",
       "      <td>12</td>\n",
       "      <td>...</td>\n",
       "      <td>0</td>\n",
       "      <td>87</td>\n",
       "      <td>4</td>\n",
       "      <td>0</td>\n",
       "      <td>3</td>\n",
       "      <td>0</td>\n",
       "      <td>6</td>\n",
       "      <td>2</td>\n",
       "      <td>1</td>\n",
       "      <td>1</td>\n",
       "    </tr>\n",
       "    <tr>\n",
       "      <th>1</th>\n",
       "      <td>1</td>\n",
       "      <td>0</td>\n",
       "      <td>8</td>\n",
       "      <td>13</td>\n",
       "      <td>22</td>\n",
       "      <td>2</td>\n",
       "      <td>34</td>\n",
       "      <td>1</td>\n",
       "      <td>2</td>\n",
       "      <td>0</td>\n",
       "      <td>...</td>\n",
       "      <td>8</td>\n",
       "      <td>7</td>\n",
       "      <td>0</td>\n",
       "      <td>1</td>\n",
       "      <td>0</td>\n",
       "      <td>0</td>\n",
       "      <td>6</td>\n",
       "      <td>7</td>\n",
       "      <td>0</td>\n",
       "      <td>0</td>\n",
       "    </tr>\n",
       "    <tr>\n",
       "      <th>2</th>\n",
       "      <td>0</td>\n",
       "      <td>0</td>\n",
       "      <td>10</td>\n",
       "      <td>12</td>\n",
       "      <td>8</td>\n",
       "      <td>3</td>\n",
       "      <td>21</td>\n",
       "      <td>0</td>\n",
       "      <td>3</td>\n",
       "      <td>8</td>\n",
       "      <td>...</td>\n",
       "      <td>9</td>\n",
       "      <td>66</td>\n",
       "      <td>0</td>\n",
       "      <td>0</td>\n",
       "      <td>2</td>\n",
       "      <td>0</td>\n",
       "      <td>6</td>\n",
       "      <td>3</td>\n",
       "      <td>0</td>\n",
       "      <td>0</td>\n",
       "    </tr>\n",
       "    <tr>\n",
       "      <th>3</th>\n",
       "      <td>1</td>\n",
       "      <td>0</td>\n",
       "      <td>13</td>\n",
       "      <td>11</td>\n",
       "      <td>3</td>\n",
       "      <td>0</td>\n",
       "      <td>32</td>\n",
       "      <td>1</td>\n",
       "      <td>1</td>\n",
       "      <td>8</td>\n",
       "      <td>...</td>\n",
       "      <td>11</td>\n",
       "      <td>119</td>\n",
       "      <td>4</td>\n",
       "      <td>1</td>\n",
       "      <td>0</td>\n",
       "      <td>0</td>\n",
       "      <td>5</td>\n",
       "      <td>2</td>\n",
       "      <td>1</td>\n",
       "      <td>0</td>\n",
       "    </tr>\n",
       "    <tr>\n",
       "      <th>4</th>\n",
       "      <td>1</td>\n",
       "      <td>0</td>\n",
       "      <td>0</td>\n",
       "      <td>0</td>\n",
       "      <td>32</td>\n",
       "      <td>0</td>\n",
       "      <td>27</td>\n",
       "      <td>1</td>\n",
       "      <td>1</td>\n",
       "      <td>5</td>\n",
       "      <td>...</td>\n",
       "      <td>12</td>\n",
       "      <td>79</td>\n",
       "      <td>4</td>\n",
       "      <td>0</td>\n",
       "      <td>2</td>\n",
       "      <td>0</td>\n",
       "      <td>1</td>\n",
       "      <td>2</td>\n",
       "      <td>0</td>\n",
       "      <td>0</td>\n",
       "    </tr>\n",
       "    <tr>\n",
       "      <th>...</th>\n",
       "      <td>...</td>\n",
       "      <td>...</td>\n",
       "      <td>...</td>\n",
       "      <td>...</td>\n",
       "      <td>...</td>\n",
       "      <td>...</td>\n",
       "      <td>...</td>\n",
       "      <td>...</td>\n",
       "      <td>...</td>\n",
       "      <td>...</td>\n",
       "      <td>...</td>\n",
       "      <td>...</td>\n",
       "      <td>...</td>\n",
       "      <td>...</td>\n",
       "      <td>...</td>\n",
       "      <td>...</td>\n",
       "      <td>...</td>\n",
       "      <td>...</td>\n",
       "      <td>...</td>\n",
       "      <td>...</td>\n",
       "      <td>...</td>\n",
       "    </tr>\n",
       "    <tr>\n",
       "      <th>1559</th>\n",
       "      <td>1</td>\n",
       "      <td>1</td>\n",
       "      <td>13</td>\n",
       "      <td>9</td>\n",
       "      <td>34</td>\n",
       "      <td>3</td>\n",
       "      <td>37</td>\n",
       "      <td>1</td>\n",
       "      <td>1</td>\n",
       "      <td>23</td>\n",
       "      <td>...</td>\n",
       "      <td>4</td>\n",
       "      <td>76</td>\n",
       "      <td>4</td>\n",
       "      <td>0</td>\n",
       "      <td>0</td>\n",
       "      <td>1</td>\n",
       "      <td>3</td>\n",
       "      <td>3</td>\n",
       "      <td>2</td>\n",
       "      <td>0</td>\n",
       "    </tr>\n",
       "    <tr>\n",
       "      <th>1560</th>\n",
       "      <td>4</td>\n",
       "      <td>1</td>\n",
       "      <td>4</td>\n",
       "      <td>14</td>\n",
       "      <td>8</td>\n",
       "      <td>3</td>\n",
       "      <td>37</td>\n",
       "      <td>1</td>\n",
       "      <td>1</td>\n",
       "      <td>12</td>\n",
       "      <td>...</td>\n",
       "      <td>6</td>\n",
       "      <td>7</td>\n",
       "      <td>2</td>\n",
       "      <td>0</td>\n",
       "      <td>3</td>\n",
       "      <td>0</td>\n",
       "      <td>6</td>\n",
       "      <td>2</td>\n",
       "      <td>2</td>\n",
       "      <td>1</td>\n",
       "    </tr>\n",
       "    <tr>\n",
       "      <th>1561</th>\n",
       "      <td>3</td>\n",
       "      <td>1</td>\n",
       "      <td>10</td>\n",
       "      <td>13</td>\n",
       "      <td>7</td>\n",
       "      <td>1</td>\n",
       "      <td>34</td>\n",
       "      <td>1</td>\n",
       "      <td>4</td>\n",
       "      <td>10</td>\n",
       "      <td>...</td>\n",
       "      <td>7</td>\n",
       "      <td>52</td>\n",
       "      <td>0</td>\n",
       "      <td>0</td>\n",
       "      <td>1</td>\n",
       "      <td>0</td>\n",
       "      <td>6</td>\n",
       "      <td>0</td>\n",
       "      <td>0</td>\n",
       "      <td>0</td>\n",
       "    </tr>\n",
       "    <tr>\n",
       "      <th>1562</th>\n",
       "      <td>3</td>\n",
       "      <td>1</td>\n",
       "      <td>4</td>\n",
       "      <td>4</td>\n",
       "      <td>35</td>\n",
       "      <td>1</td>\n",
       "      <td>21</td>\n",
       "      <td>1</td>\n",
       "      <td>1</td>\n",
       "      <td>13</td>\n",
       "      <td>...</td>\n",
       "      <td>8</td>\n",
       "      <td>87</td>\n",
       "      <td>4</td>\n",
       "      <td>0</td>\n",
       "      <td>1</td>\n",
       "      <td>0</td>\n",
       "      <td>3</td>\n",
       "      <td>2</td>\n",
       "      <td>1</td>\n",
       "      <td>0</td>\n",
       "    </tr>\n",
       "    <tr>\n",
       "      <th>1563</th>\n",
       "      <td>4</td>\n",
       "      <td>0</td>\n",
       "      <td>2</td>\n",
       "      <td>8</td>\n",
       "      <td>28</td>\n",
       "      <td>0</td>\n",
       "      <td>41</td>\n",
       "      <td>1</td>\n",
       "      <td>1</td>\n",
       "      <td>9</td>\n",
       "      <td>...</td>\n",
       "      <td>10</td>\n",
       "      <td>76</td>\n",
       "      <td>0</td>\n",
       "      <td>0</td>\n",
       "      <td>2</td>\n",
       "      <td>1</td>\n",
       "      <td>6</td>\n",
       "      <td>5</td>\n",
       "      <td>2</td>\n",
       "      <td>0</td>\n",
       "    </tr>\n",
       "  </tbody>\n",
       "</table>\n",
       "<p>1564 rows × 21 columns</p>\n",
       "</div>"
      ],
      "text/plain": [
       "      channel  collectionpoint  avgemioverduedays  loanterm  loanamount_lacs  \\\n",
       "0           1                0                 14         5               19   \n",
       "1           1                0                  8        13               22   \n",
       "2           0                0                 10        12                8   \n",
       "3           1                0                 13        11                3   \n",
       "4           1                0                  0         0               32   \n",
       "...       ...              ...                ...       ...              ...   \n",
       "1559        1                1                 13         9               34   \n",
       "1560        4                1                  4        14                8   \n",
       "1561        3                1                 10        13                7   \n",
       "1562        3                1                  4         4               35   \n",
       "1563        4                0                  2         8               28   \n",
       "\n",
       "      typeofloantaken  pi_age  pi_gender  pi_marital_status  pi_state  ...  \\\n",
       "0                   3      21          0                  1        12  ...   \n",
       "1                   2      34          1                  2         0  ...   \n",
       "2                   3      21          0                  3         8  ...   \n",
       "3                   0      32          1                  1         8  ...   \n",
       "4                   0      27          1                  1         5  ...   \n",
       "...               ...     ...        ...                ...       ...  ...   \n",
       "1559                3      37          1                  1        23  ...   \n",
       "1560                3      37          1                  1        12  ...   \n",
       "1561                1      34          1                  4        10  ...   \n",
       "1562                1      21          1                  1        13  ...   \n",
       "1563                0      41          1                  1         9  ...   \n",
       "\n",
       "      branch  salary  ageproof  blockedlocation-current  emidefulterfrequency  \\\n",
       "0          0      87         4                        0                     3   \n",
       "1          8       7         0                        1                     0   \n",
       "2          9      66         0                        0                     2   \n",
       "3         11     119         4                        1                     0   \n",
       "4         12      79         4                        0                     2   \n",
       "...      ...     ...       ...                      ...                   ...   \n",
       "1559       4      76         4                        0                     0   \n",
       "1560       6       7         2                        0                     3   \n",
       "1561       7      52         0                        0                     1   \n",
       "1562       8      87         4                        0                     1   \n",
       "1563      10      76         0                        0                     2   \n",
       "\n",
       "      salaryaccountinbank  edu_flag  occ_flag  pi_contactablity  defaulter  \n",
       "0                       0         6         2                 1          1  \n",
       "1                       0         6         7                 0          0  \n",
       "2                       0         6         3                 0          0  \n",
       "3                       0         5         2                 1          0  \n",
       "4                       0         1         2                 0          0  \n",
       "...                   ...       ...       ...               ...        ...  \n",
       "1559                    1         3         3                 2          0  \n",
       "1560                    0         6         2                 2          1  \n",
       "1561                    0         6         0                 0          0  \n",
       "1562                    0         3         2                 1          0  \n",
       "1563                    1         6         5                 2          0  \n",
       "\n",
       "[1564 rows x 21 columns]"
      ]
     },
     "execution_count": 14,
     "metadata": {},
     "output_type": "execute_result"
    }
   ],
   "source": [
    "#import LabelEncoder library \n",
    "from sklearn.preprocessing import LabelEncoder\n",
    "\n",
    "# Assigning numerical values and storing in another column\n",
    "df = df.apply(LabelEncoder().fit_transform)\n",
    "df"
   ]
  },
  {
   "cell_type": "markdown",
   "id": "83c78cd7",
   "metadata": {},
   "source": [
    "#### Treating outliers in salary column"
   ]
  },
  {
   "cell_type": "code",
   "execution_count": 15,
   "id": "c807dab7",
   "metadata": {},
   "outputs": [],
   "source": [
    "#imputing average and dropping original columns\n",
    "\n",
    "def get_correct_values(row, column_name, threshold, df):\n",
    "    ''' Returns mean value if value in column_name is above threshold'''\n",
    "    if row[column_name] > threshold:\n",
    "        return row[column_name]\n",
    "    else:\n",
    "        mean = df[df[column_name] <= threshold][column_name].mean()\n",
    "        return mean\n",
    "\n",
    "df['salary'] = df.apply(lambda row: get_correct_values(row, 'salary', 35000, df),axis=1)"
   ]
  },
  {
   "cell_type": "code",
   "execution_count": 16,
   "id": "12669bd6",
   "metadata": {},
   "outputs": [
    {
     "data": {
      "text/plain": [
       "count    1.564000e+03\n",
       "mean     6.248082e+01\n",
       "std      9.240010e-14\n",
       "min      6.248082e+01\n",
       "25%      6.248082e+01\n",
       "50%      6.248082e+01\n",
       "75%      6.248082e+01\n",
       "max      6.248082e+01\n",
       "Name: salary, dtype: float64"
      ]
     },
     "execution_count": 16,
     "metadata": {},
     "output_type": "execute_result"
    }
   ],
   "source": [
    "df['salary'].describe()"
   ]
  },
  {
   "cell_type": "code",
   "execution_count": 34,
   "id": "0c117659",
   "metadata": {},
   "outputs": [],
   "source": [
    "#exporting the encoded dataframe as csv\n",
    "df.to_csv(\"C:/.../bankdefault_encoded.csv\", index = False)"
   ]
  },
  {
   "cell_type": "markdown",
   "id": "8b7dc844",
   "metadata": {},
   "source": [
    "#### Scaling of the numerical variables"
   ]
  },
  {
   "cell_type": "markdown",
   "id": "ce224db4",
   "metadata": {},
   "source": [
    "Since there are only a few continuous variables with varied values, especially salary, I have use a standard scaler (presence of outliers in some)"
   ]
  },
  {
   "cell_type": "code",
   "execution_count": 18,
   "id": "04d1901f",
   "metadata": {
    "scrolled": false
   },
   "outputs": [],
   "source": [
    "from sklearn.preprocessing import StandardScaler\n",
    "scaler = StandardScaler()\n",
    "\n",
    "#scaling the data \n",
    "scaled = scaler.fit_transform(df[['avgemioverduedays', 'loanterm', 'loanamount_lacs','pi_age','salary','emidefulterfrequency']])"
   ]
  },
  {
   "cell_type": "markdown",
   "id": "b69ac736",
   "metadata": {},
   "source": [
    "# Train Test Split"
   ]
  },
  {
   "cell_type": "code",
   "execution_count": 19,
   "id": "2cb14205",
   "metadata": {},
   "outputs": [],
   "source": [
    "#Split train-test data\n",
    "from sklearn.model_selection import train_test_split\n",
    "\n",
    "# Separating the independent variables from dependent variables\n",
    "X = df.iloc[:,:-1]\n",
    "y = df.iloc[:,-1]\n",
    "X_train, X_test, y_train, y_test = train_test_split(X,y,test_size=0.30)"
   ]
  },
  {
   "cell_type": "markdown",
   "id": "a288ba42",
   "metadata": {},
   "source": [
    "# Dealing with Imbalanced Class"
   ]
  },
  {
   "cell_type": "markdown",
   "id": "3ac07044",
   "metadata": {},
   "source": [
    "Since our data is highly imabalanced, we sought to use sampling methods along with SVM algo and the ROC AUC metric. The below sections describe the results of SVM for under-, over-, mixed-sampling approaches through AUC ROC curves. "
   ]
  },
  {
   "cell_type": "code",
   "execution_count": 20,
   "id": "e9893800",
   "metadata": {},
   "outputs": [
    {
     "name": "stdout",
     "output_type": "stream",
     "text": [
      "Counter({0: 9900, 1: 100})\n"
     ]
    },
    {
     "data": {
      "image/png": "[encoded data removed]",
      "text/plain": [
       "<Figure size 432x288 with 1 Axes>"
      ]
     },
     "metadata": {
      "needs_background": "light"
     },
     "output_type": "display_data"
    }
   ],
   "source": [
    "# Undersample imbalanced dataset with NearMiss-2\n",
    "from collections import Counter\n",
    "from sklearn.datasets import make_classification\n",
    "from imblearn.under_sampling import NearMiss\n",
    "from numpy import where\n",
    "\n",
    "# defining dataset\n",
    "X, y = make_classification(n_samples=10000, n_features=2, n_redundant=0,\n",
    "    n_clusters_per_class=1, weights=[0.99], flip_y=0, random_state=1)\n",
    "\n",
    "# summarising class distribution\n",
    "counter = Counter(y)\n",
    "print(counter)\n",
    "\n",
    "# scatter plot by class label\n",
    "for label, _ in counter.items():\n",
    "    row_ix = where(y == label)[0]\n",
    "    plt.scatter(X[row_ix, 0], X[row_ix, 1], label=str(label))\n",
    "plt.legend()\n",
    "plt.show()"
   ]
  },
  {
   "cell_type": "markdown",
   "id": "747a27bc",
   "metadata": {},
   "source": [
    "### Baseline test with Support Vector Machine (without sampling)"
   ]
  },
  {
   "cell_type": "code",
   "execution_count": 21,
   "id": "084f48e7",
   "metadata": {},
   "outputs": [],
   "source": [
    "from sklearn.svm import SVC\n",
    "\n",
    "model=SVC()\n",
    "clf = model.fit(X_train, y_train)"
   ]
  },
  {
   "cell_type": "code",
   "execution_count": 22,
   "id": "05221c78",
   "metadata": {},
   "outputs": [
    {
     "name": "stdout",
     "output_type": "stream",
     "text": [
      "Classification report for original (baseline) data:                precision    recall  f1-score   support\n",
      "\n",
      "           0       0.77      1.00      0.87       364\n",
      "           1       0.00      0.00      0.00       106\n",
      "\n",
      "    accuracy                           0.77       470\n",
      "   macro avg       0.39      0.50      0.44       470\n",
      "weighted avg       0.60      0.77      0.68       470\n",
      "\n",
      "ROC AUC score for (baseline) data:  0.5\n"
     ]
    },
    {
     "name": "stderr",
     "output_type": "stream",
     "text": [
      "C:\\Users\\singh\\anaconda3\\lib\\site-packages\\sklearn\\metrics\\_classification.py:1327: UndefinedMetricWarning: Precision and F-score are ill-defined and being set to 0.0 in labels with no predicted samples. Use `zero_division` parameter to control this behavior.\n",
      "  _warn_prf(average, modifier, msg_start, len(result))\n",
      "C:\\Users\\singh\\anaconda3\\lib\\site-packages\\sklearn\\metrics\\_classification.py:1327: UndefinedMetricWarning: Precision and F-score are ill-defined and being set to 0.0 in labels with no predicted samples. Use `zero_division` parameter to control this behavior.\n",
      "  _warn_prf(average, modifier, msg_start, len(result))\n",
      "C:\\Users\\singh\\anaconda3\\lib\\site-packages\\sklearn\\metrics\\_classification.py:1327: UndefinedMetricWarning: Precision and F-score are ill-defined and being set to 0.0 in labels with no predicted samples. Use `zero_division` parameter to control this behavior.\n",
      "  _warn_prf(average, modifier, msg_start, len(result))\n"
     ]
    }
   ],
   "source": [
    "#Evaluate results \n",
    "from sklearn.metrics import classification_report, roc_auc_score, f1_score\n",
    "\n",
    "pred = clf.predict(X_test)\n",
    "\n",
    "print(\"Classification report for original (baseline) data: \", classification_report(y_test, pred))\n",
    "print(\"ROC AUC score for (baseline) data: \", roc_auc_score(y_test, pred))"
   ]
  },
  {
   "cell_type": "markdown",
   "id": "07e58814",
   "metadata": {},
   "source": [
    "Results are merely 50% "
   ]
  },
  {
   "cell_type": "code",
   "execution_count": 23,
   "id": "96e81e85",
   "metadata": {},
   "outputs": [
    {
     "name": "stdout",
     "output_type": "stream",
     "text": [
      "Counter({0: 882, 1: 212})\n",
      "Counter({0: 212, 1: 212})\n"
     ]
    }
   ],
   "source": [
    "# import random undersampling library \n",
    "from collections import Counter\n",
    "from imblearn.under_sampling import RandomUnderSampler\n",
    "import warnings\n",
    "warnings.simplefilter(action='ignore', category=FutureWarning)\n",
    "\n",
    "# summarize class distribution\n",
    "print(Counter(y_train))\n",
    "\n",
    "# define undersample strategy\n",
    "undersample = RandomUnderSampler(sampling_strategy='majority')\n",
    "\n",
    "# fit and apply the transform\n",
    "X_train_under, y_train_under = undersample.fit_resample(X_train, y_train)\n",
    "\n",
    "# summarize class distribution\n",
    "print(Counter(y_train_under))"
   ]
  },
  {
   "cell_type": "code",
   "execution_count": 24,
   "id": "238e402f",
   "metadata": {},
   "outputs": [
    {
     "name": "stdout",
     "output_type": "stream",
     "text": [
      "Classification report for undersampled data:                precision    recall  f1-score   support\n",
      "\n",
      "           0       0.83      0.63      0.72       364\n",
      "           1       0.30      0.55      0.39       106\n",
      "\n",
      "    accuracy                           0.61       470\n",
      "   macro avg       0.57      0.59      0.55       470\n",
      "weighted avg       0.71      0.61      0.64       470\n",
      "\n",
      "ROC AUC score for undersampled data:  0.5908925979680697\n"
     ]
    }
   ],
   "source": [
    "from sklearn.svm import SVC\n",
    "from sklearn.metrics import classification_report\n",
    "\n",
    "model=SVC()\n",
    "clf_under = model.fit(X_train_under, y_train_under)\n",
    "pred_under = clf_under.predict(X_test)\n",
    "\n",
    "print(\"Classification report for undersampled data: \", classification_report(y_test, pred_under))\n",
    "print(\"ROC AUC score for undersampled data: \", roc_auc_score(y_test, pred_under))"
   ]
  },
  {
   "cell_type": "code",
   "execution_count": 25,
   "id": "440ea607",
   "metadata": {},
   "outputs": [
    {
     "name": "stdout",
     "output_type": "stream",
     "text": [
      "Counter({0: 882, 1: 212})\n",
      "Counter({0: 882, 1: 882})\n"
     ]
    }
   ],
   "source": [
    "# import random oversampling library \n",
    "from collections import Counter\n",
    "from imblearn.over_sampling import SMOTE\n",
    "import warnings\n",
    "warnings.simplefilter(action='ignore', category=FutureWarning)\n",
    "\n",
    "# summarize class distribution\n",
    "print(Counter(y_train))\n",
    "\n",
    "# define undersample strategy\n",
    "SMOTE = SMOTE()\n",
    "\n",
    "# fit and apply the transform\n",
    "X_train_SMOTE, y_train_SMOTE = SMOTE.fit_resample(X_train, y_train)\n",
    "\n",
    "# summarize class distribution\n",
    "print(Counter(y_train_SMOTE))"
   ]
  },
  {
   "cell_type": "code",
   "execution_count": 26,
   "id": "56cc553a",
   "metadata": {},
   "outputs": [
    {
     "name": "stdout",
     "output_type": "stream",
     "text": [
      "Classification report for oversampled SMOTE data:                precision    recall  f1-score   support\n",
      "\n",
      "           0       0.97      0.81      0.88       364\n",
      "           1       0.59      0.92      0.72       106\n",
      "\n",
      "    accuracy                           0.84       470\n",
      "   macro avg       0.78      0.87      0.80       470\n",
      "weighted avg       0.89      0.84      0.85       470\n",
      "\n",
      "ROC AUC score for oversampled SMOTE data:  0.8674839311631766\n",
      "ROC AUC score for (baseline) data:  0.8012532195440741\n"
     ]
    }
   ],
   "source": [
    "from sklearn.svm import SVC\n",
    "from sklearn.metrics import classification_report\n",
    "\n",
    "model=SVC()\n",
    "clf_SMOTE = model.fit(X_train_SMOTE, y_train_SMOTE)\n",
    "pred_SMOTE = clf_SMOTE.predict(X_test)\n",
    "\n",
    "print(\"Classification report for oversampled SMOTE data: \", classification_report(y_test, pred_SMOTE))\n",
    "print(\"ROC AUC score for oversampled SMOTE data: \", roc_auc_score(y_test, pred_SMOTE))\n",
    "print(\"ROC AUC score for (baseline) data: \", f1_score(y_test, pred_SMOTE, average='macro'))"
   ]
  },
  {
   "cell_type": "code",
   "execution_count": 27,
   "id": "ce772184",
   "metadata": {},
   "outputs": [
    {
     "name": "stdout",
     "output_type": "stream",
     "text": [
      "SMOTE oversampling rate:0.3, Random undersampling rate:0.7 , Mean ROC AUC: 0.932\n",
      "SMOTE oversampling rate:0.3, Random undersampling rate:0.6 , Mean ROC AUC: 0.925\n",
      "SMOTE oversampling rate:0.3, Random undersampling rate:0.5 , Mean ROC AUC: 0.923\n",
      "SMOTE oversampling rate:0.4, Random undersampling rate:0.7 , Mean ROC AUC: 0.927\n",
      "SMOTE oversampling rate:0.4, Random undersampling rate:0.6 , Mean ROC AUC: 0.933\n",
      "SMOTE oversampling rate:0.4, Random undersampling rate:0.5 , Mean ROC AUC: 0.936\n",
      "SMOTE oversampling rate:0.5, Random undersampling rate:0.7 , Mean ROC AUC: 0.934\n",
      "SMOTE oversampling rate:0.5, Random undersampling rate:0.6 , Mean ROC AUC: 0.935\n",
      "SMOTE oversampling rate:0.5, Random undersampling rate:0.5 , Mean ROC AUC: 0.935\n"
     ]
    }
   ],
   "source": [
    "# grid search k value for SMOTE oversampling for imbalanced classification\n",
    "from numpy import mean\n",
    "from sklearn.model_selection import cross_val_score\n",
    "from imblearn.pipeline import Pipeline\n",
    "from imblearn.over_sampling import SMOTE\n",
    "from imblearn.under_sampling import RandomUnderSampler\n",
    "\n",
    "# values to evaluate\n",
    "over_values = [0.3,0.4,0.5]\n",
    "under_values = [0.7,0.6,0.5]\n",
    "for o in over_values:\n",
    "  for u in under_values:\n",
    "    # define pipeline\n",
    "    model = SVC()\n",
    "    over = SMOTE(sampling_strategy=o)\n",
    "    under = RandomUnderSampler(sampling_strategy=u)\n",
    "    steps = [('over', over), ('under', under), ('model', model)]\n",
    "    pipeline = Pipeline(steps=steps)\n",
    "    # evaluate pipeline\n",
    "    scores = cross_val_score(pipeline, X, y, scoring='roc_auc', cv=5, n_jobs=-1)\n",
    "    score = mean(scores)\n",
    "    print('SMOTE oversampling rate:%.1f, Random undersampling rate:%.1f , Mean ROC AUC: %.3f' % (o, u, score))"
   ]
  },
  {
   "cell_type": "code",
   "execution_count": 28,
   "id": "472f6de9",
   "metadata": {},
   "outputs": [
    {
     "name": "stdout",
     "output_type": "stream",
     "text": [
      "ROC AUC score for the combined sampling method: 0.933\n"
     ]
    }
   ],
   "source": [
    "# import needed libraries \n",
    "from numpy import mean\n",
    "from sklearn.model_selection import cross_val_score\n",
    "from imblearn.pipeline import Pipeline\n",
    "from imblearn.under_sampling import RandomUnderSampler\n",
    "from imblearn.over_sampling import SMOTE\n",
    "\n",
    "# define pipeline\n",
    "model = SVC()\n",
    "over = SMOTE(sampling_strategy=0.5)\n",
    "under = RandomUnderSampler(sampling_strategy=0.5)\n",
    "steps = [('o', over), ('u', under), ('model', model)]\n",
    "pipeline = Pipeline(steps=steps)\n",
    "\n",
    "# evaluate pipeline\n",
    "scores = cross_val_score(pipeline, X, y, scoring='roc_auc', cv=5, n_jobs=-1)\n",
    "score = mean(scores)\n",
    "print('ROC AUC score for the combined sampling method: %.3f' % score)"
   ]
  },
  {
   "cell_type": "markdown",
   "id": "a637da78",
   "metadata": {},
   "source": [
    "# Predicitng for the data point "
   ]
  },
  {
   "cell_type": "code",
   "execution_count": 35,
   "id": "0781ff2f",
   "metadata": {},
   "outputs": [],
   "source": [
    "test = pd.read_csv(\"C:/.../test_bank_default.csv\")"
   ]
  },
  {
   "cell_type": "code",
   "execution_count": 36,
   "id": "3518529a",
   "metadata": {},
   "outputs": [],
   "source": [
    "test.columns= test.columns.str.lower()\n",
    "# removing spaces in column names\n",
    "test.columns = test.columns.str.replace(' ','')\n",
    "\n",
    "#drop irrelevant columns\n",
    "test = test.drop(columns = ['loantype','customer'],axis=1)"
   ]
  },
  {
   "cell_type": "code",
   "execution_count": 37,
   "id": "258d3142",
   "metadata": {},
   "outputs": [],
   "source": [
    "fitting = model.fit(X_train, y_train)\n",
    "prediction = fitting.predict(test)"
   ]
  },
  {
   "cell_type": "code",
   "execution_count": 38,
   "id": "4f60bde6",
   "metadata": {},
   "outputs": [
    {
     "name": "stdout",
     "output_type": "stream",
     "text": [
      "[0]\n"
     ]
    }
   ],
   "source": [
    "print(prediction)"
   ]
  },
  {
   "cell_type": "markdown",
   "id": "9d0fc95f",
   "metadata": {},
   "source": [
    "This means that the person is a non-defaulter"
   ]
  }
 ],
 "metadata": {
  "kernelspec": {
   "display_name": "Python 3",
   "language": "python",
   "name": "python3"
  },
  "language_info": {
   "codemirror_mode": {
    "name": "ipython",
    "version": 3
   },
   "file_extension": ".py",
   "mimetype": "text/x-python",
   "name": "python",
   "nbconvert_exporter": "python",
   "pygments_lexer": "ipython3",
   "version": "3.8.8"
  }
 },
 "nbformat": 4,
 "nbformat_minor": 5
}
